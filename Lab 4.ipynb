{
 "cells": [
  {
   "cell_type": "markdown",
   "metadata": {},
   "source": [
    "<h1> Do movies that pass the Bechdel test make less money than movies that fail the Bechdel test?\n",
    "<h3> by Tessa de Vries"
   ]
  },
  {
   "cell_type": "markdown",
   "metadata": {},
   "source": [
    "One may support the claim that movies that pass the Bechdel make less money than the movies that fail the Bechdel test; however, this totally depends on how you look at the data. In this lab I will organize and analyze the data in various ways to investigate whether this claim is true. \n",
    "\n",
    "In order for a movie to pass the Bechdel test: (1) it has to have at least two women in it, who (2) who talk to each other, about (3) something besides a man. "
   ]
  },
  {
   "cell_type": "markdown",
   "metadata": {},
   "source": [
    "First, I will be calculating the means and medians for movies that passed and movies that failed the test. "
   ]
  },
  {
   "cell_type": "code",
   "execution_count": 2,
   "metadata": {
    "collapsed": false
   },
   "outputs": [],
   "source": [
    "import statistics\n",
    "import scipy.stats as st \n",
    "import matplotlib.pyplot as plt \n",
    "%matplotlib inline \n",
    "\n",
    "file= open(\"movies.csv\", \"r\", errors=\"ignore\")\n",
    "movies=[]\n",
    "for i in file:\n",
    "    movies.append(i)\n",
    "\n",
    "del movies[0]\n",
    "passs=[]\n",
    "fail=[]\n",
    "intgross=[]\n",
    "\n",
    "for j in range(len(movies)):\n",
    "    movies[j]=movies[j].replace(\"\\n\",\"\")\n",
    "    movies[j]=movies[j].split(\",\")\n",
    "    if movies[j][1]==\"FAIL\":\n",
    "        fail.append(float(movies[j][4]))\n",
    "    if movies[j][1]==\"PASS\":\n",
    "        passs.append(float(movies[j][4]))\n",
    "    intgross.append(float(movies[j][4]))\n",
    "\n",
    "\n"
   ]
  },
  {
   "cell_type": "code",
   "execution_count": 3,
   "metadata": {
    "collapsed": false
   },
   "outputs": [
    {
     "name": "stdout",
     "output_type": "stream",
     "text": [
      "Median International Gross for Movies that Failed the Bechdel Test:\n",
      "110526561.5\n",
      "Mean International Gross for Movies that Failed the Bechdel Test:\n",
      "223175118.67922607\n",
      "Median International Gross for Movies that Passed the Bechdel Test:\n",
      "81799153.5\n",
      "Mean International Gross for Movies that Passed the Bechdel Test:\n",
      "168136470.52267003\n"
     ]
    }
   ],
   "source": [
    "print('Median International Gross for Movies that Failed the Bechdel Test:')\n",
    "print(statistics.median(fail))\n",
    "print('Mean International Gross for Movies that Failed the Bechdel Test:')\n",
    "print(statistics.mean(fail))\n",
    "\n",
    "print('Median International Gross for Movies that Passed the Bechdel Test:')\n",
    "print(statistics.median(passs))\n",
    "\n",
    "print('Mean International Gross for Movies that Passed the Bechdel Test:')\n",
    "print(statistics.mean(passs))\n",
    "\n"
   ]
  },
  {
   "cell_type": "markdown",
   "metadata": {},
   "source": [
    "Based on the previous calculations, one may conclude that movies that failed the test do in fact make more money than movies that passed. However, these calculations are just based off of the international gross not net worth of the movies, and they clump all movies from 1970 to 2013 into one category which ignores time. To consider time as a factor, the following code will group movies into decades and find the mean of each decade's mean international gross income. "
   ]
  },
  {
   "cell_type": "code",
   "execution_count": 4,
   "metadata": {
    "collapsed": false
   },
   "outputs": [
    {
     "name": "stdout",
     "output_type": "stream",
     "text": [
      "Mean international gross for movies that premiered from 1970-1980 that failed the test:\n",
      "437213577.4489796\n",
      "Mean international gross for movies that premiered from 1981-1990 that failed the test:\n",
      "287288525.3023256\n",
      "Mean international gross for movies that premiered from 1991-2000 that failed the test:\n",
      "207588319.01395348\n",
      "Mean international gross for movies that premiered from 2001-2010 that failed the test:\n",
      "200323946.3152174\n",
      "Mean international gross for movies that premiered from 2011-2020 that failed the test:\n",
      "210739442.9011628\n",
      "Mean international gross for movies that premiered from 1970-1980 that passed the test:\n",
      "324931742.1666667\n",
      "Mean international gross for movies that premiered from 1981-1990 that passed the test:\n",
      "152054524.07894737\n",
      "Mean international gross for movies that premiered from 1991-2000 that passed the test:\n",
      "198080400.9\n",
      "Mean international gross for movies that premiered from 2001-2010 that passed the test:\n",
      "147136831.20506912\n",
      "Mean international gross for movies that premiered from 2011-2020 that passed the test:\n",
      "181660159.8880597\n"
     ]
    }
   ],
   "source": [
    "import statistics\n",
    "import scipy.stats as st \n",
    "import matplotlib.pyplot as plt \n",
    "%matplotlib inline \n",
    "\n",
    "file= open(\"movies.csv\", \"r\", errors=\"ignore\")\n",
    "movies=[]\n",
    "for i in file:\n",
    "    movies.append(i)\n",
    "\n",
    "del movies[0]\n",
    "passs=[]\n",
    "fail=[]\n",
    "failyear=[]\n",
    "passyear=[]\n",
    "\n",
    "\n",
    "for j in range(len(movies)):\n",
    "    movies[j]=movies[j].replace(\"\\n\",\"\")\n",
    "    movies[j]=movies[j].split(\",\")\n",
    "    if movies[j][1]==\"FAIL\":\n",
    "        fail.append(float(movies[j][4]))\n",
    "        failyear.append(int(movies[j][0]))\n",
    "    if movies[j][1]==\"PASS\":\n",
    "        passs.append(float(movies[j][4]))\n",
    "        passyear.append(int(movies[j][0]))\n",
    "\n",
    "#1970-1980fail \n",
    "fail1=[]\n",
    "fail2=[]\n",
    "fail3=[]\n",
    "fail4=[]\n",
    "fail5=[]\n",
    "\n",
    "\n",
    "for j in range(len(failyear)):\n",
    "    if failyear[j]>=1970 and failyear[j]<=1980:\n",
    "        fail1.append(fail[j])\n",
    "    elif failyear[j]>=1981 and failyear[j]<=1990:\n",
    "        fail2.append(fail[j])\n",
    "    elif failyear[j]>=1991 and failyear[j]<=2000:\n",
    "        fail3.append(fail[j])\n",
    "    elif failyear[j]>=2001 and failyear[j]<=2010:\n",
    "        fail4.append(fail[j])\n",
    "    elif failyear[j]>=2011 and failyear[j]<=2020:\n",
    "        fail5.append(fail[j])\n",
    "\n",
    "print('Mean international gross for movies that premiered from 1970-1980 that failed the test:')\n",
    "print(statistics.mean(fail1))\n",
    "print('Mean international gross for movies that premiered from 1981-1990 that failed the test:')\n",
    "print(statistics.mean(fail2))\n",
    "print('Mean international gross for movies that premiered from 1991-2000 that failed the test:')\n",
    "print(statistics.mean(fail3))\n",
    "print('Mean international gross for movies that premiered from 2001-2010 that failed the test:')\n",
    "print(statistics.mean(fail4))\n",
    "print('Mean international gross for movies that premiered from 2011-2020 that failed the test:')\n",
    "print(statistics.mean(fail5))\n",
    "\n",
    "\n",
    "#1970-1980pass \n",
    "pass1=[]\n",
    "pass2=[]\n",
    "pass3=[]\n",
    "pass4=[]\n",
    "pass5=[]\n",
    "\n",
    "\n",
    "for j in range(len(passyear)):\n",
    "    if passyear[j]>=1970 and passyear[j]<=1980:\n",
    "        pass1.append(passs[j])\n",
    "    elif passyear[j]>=1981 and passyear[j]<=1990:\n",
    "        pass2.append(passs[j])\n",
    "    elif passyear[j]>=1991 and passyear[j]<=2000:\n",
    "        pass3.append(passs[j])\n",
    "    elif passyear[j]>=2001 and passyear[j]<=2010:\n",
    "        pass4.append(passs[j])\n",
    "    elif passyear[j]>=2011 and passyear[j]<=2020:\n",
    "        pass5.append(passs[j])\n",
    "\n",
    "print('Mean international gross for movies that premiered from 1970-1980 that passed the test:')\n",
    "print(statistics.mean(pass1))\n",
    "print('Mean international gross for movies that premiered from 1981-1990 that passed the test:')\n",
    "print(statistics.mean(pass2))\n",
    "print('Mean international gross for movies that premiered from 1991-2000 that passed the test:')\n",
    "print(statistics.mean(pass3))\n",
    "print('Mean international gross for movies that premiered from 2001-2010 that passed the test:')\n",
    "print(statistics.mean(pass4))\n",
    "print('Mean international gross for movies that premiered from 2011-2020 that passed the test:')\n",
    "print(statistics.mean(pass5))"
   ]
  },
  {
   "cell_type": "markdown",
   "metadata": {
    "collapsed": false
   },
   "source": [
    "Based off the following calculations one may conclude that movies that passed the test make less money than movies that failed the test, regardless of the time period in which they premiered as the means for movies that failed in each decade are consistently higher than the means for movies that passed. However, this analysis accounts for international gross rather than net worth of the movies. In the next part of the lab, I will investigate the mean net worths for the movies that passed and failed by decades. \n",
    "\n",
    "\n",
    "\n",
    "    "
   ]
  },
  {
   "cell_type": "code",
   "execution_count": 7,
   "metadata": {
    "collapsed": false
   },
   "outputs": [
    {
     "data": {
      "text/plain": [
       "<matplotlib.text.Text at 0x1114224e0>"
      ]
     },
     "execution_count": 7,
     "metadata": {},
     "output_type": "execute_result"
    },
    {
     "data": {
      "image/png": "[encoded data removed]",
      "text/plain": [
       "<matplotlib.figure.Figure at 0x1113f5278>"
      ]
     },
     "metadata": {},
     "output_type": "display_data"
    }
   ],
   "source": [
    "del movies[0]\n",
    "passnet=[]\n",
    "failnet=[]\n",
    "failYear=[]\n",
    "passYear=[]\n",
    "\n",
    "for j in range(len(movies)):\n",
    "    if movies[j][1]==\"FAIL\":\n",
    "        failnet.append(float(movies[j][5]))\n",
    "        failYear.append(int(movies[j][0]))\n",
    "    if movies[j][1]==\"PASS\":\n",
    "        passnet.append(float(movies[j][5]))\n",
    "        passYear.append(int(movies[j][0]))\n",
    "\n",
    "\n",
    "fail1=[]\n",
    "fail2=[]\n",
    "fail3=[]\n",
    "fail4=[]\n",
    "fail5=[]\n",
    "\n",
    "\n",
    "for j in range(len(failYear)):\n",
    "    if failYear[j]>=1970 and failYear[j]<=1980:\n",
    "        fail1.append(fail[j])\n",
    "    elif failYear[j]>=1981 and failYear[j]<=1990:\n",
    "        fail2.append(fail[j])\n",
    "    elif failYear[j]>=1991 and failYear[j]<=2000:\n",
    "        fail3.append(fail[j])\n",
    "    elif failYear[j]>=2001 and failYear[j]<=2010:\n",
    "        fail4.append(fail[j])\n",
    "    elif failYear[j]>=2011 and failYear[j]<=2020:\n",
    "        fail5.append(fail[j])\n",
    "\n",
    "\n",
    "pass1=[]\n",
    "pass2=[]\n",
    "pass3=[]\n",
    "pass4=[]\n",
    "pass5=[]\n",
    "\n",
    "\n",
    "for j in range(len(passYear)):\n",
    "    if passYear[j]>=1970 and passYear[j]<=1980:\n",
    "        pass1.append(passs[j])\n",
    "    elif passYear[j]>=1981 and passYear[j]<=1990:\n",
    "        pass2.append(passs[j])\n",
    "    elif passYear[j]>=1991 and passYear[j]<=2000:\n",
    "        pass3.append(passs[j])\n",
    "    elif passYear[j]>=2001 and passYear[j]<=2010:\n",
    "        pass4.append(passs[j])\n",
    "    elif passYear[j]>=2011 and passYear[j]<=2020:\n",
    "        pass5.append(passs[j])\n",
    "\n",
    "\n",
    "passNet=[233773288.16666666, 162754279.60526314, 194343313.67058823,147358577.1751152,182806145.6870229]\n",
    "failNet=[413716767.40816325, 299891988.8604651, 199156412.55813953, 200095967.9978261, 215204855.45180723]\n",
    "years=[1, 2, 3, 4, 5]\n",
    "\n",
    "plt.figure(figsize=(15,4))   \n",
    "plt.scatter (years, passNet,)\n",
    "plt.scatter (years, failNet, color='r') \n",
    "plt.legend (['pass','fail'])\n",
    "plt.xlabel(\"Decades\")\n",
    "plt.ylabel(\"Net Worth (in hundreds of thousands)\")\n",
    "plt.title(\"Mean Net Worth of Movies that Passed and Failed the Bechdel Test in various Decades\")\n"
   ]
  },
  {
   "cell_type": "markdown",
   "metadata": {
    "collapsed": true
   },
   "source": [
    "Decade 1: 1970-1980, Decade 2: 1981-1990, Decade 3: 1991-2000, Decade 4: 2001-2010, Decade 5: 2011-2020. \n",
    "\n",
    "Although the movies that failed the test have higher mean net worths for each decade than movies that passed, the graph shows that the gap between the two overall is decreasing. Besides from 1991-2000 the dots get consistently closer together. This trend may be indicative of the American film industry being more open and inclusive to starring women as larger roles in movies. And the claim that all movies (all the time) that fail the test make more money than movies that pass the test is relatively proven false with this data from 1991-2000 where the means were very very close. \n",
    "\n",
    "Another thing to consider when adressing this question is how many movies there are that failed thes test versus how many there are that passed the test. It's harder to draw an overall accurate mean for a smaller sample size. So if there are thousands of movies that failed the test and only hundreds that passed, the means are not on the same level of accuracy. But we can only draw the mean from the data we are given, which all ties back to including women in the film industry. "
   ]
  },
  {
   "cell_type": "code",
   "execution_count": null,
   "metadata": {
    "collapsed": true
   },
   "outputs": [],
   "source": []
  }
 ],
 "metadata": {
  "anaconda-cloud": {},
  "kernelspec": {
   "display_name": "Python [Root]",
   "language": "python",
   "name": "Python [Root]"
  },
  "language_info": {
   "codemirror_mode": {
    "name": "ipython",
    "version": 3
   },
   "file_extension": ".py",
   "mimetype": "text/x-python",
   "name": "python",
   "nbconvert_exporter": "python",
   "pygments_lexer": "ipython3",
   "version": "3.5.2"
  }
 },
 "nbformat": 4,
 "nbformat_minor": 0
}
